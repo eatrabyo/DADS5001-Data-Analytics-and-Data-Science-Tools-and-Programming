{
  "nbformat": 4,
  "nbformat_minor": 0,
  "metadata": {
    "colab": {
      "name": "week1.ipynb",
      "provenance": [],
      "include_colab_link": true
    },
    "kernelspec": {
      "name": "python3",
      "display_name": "Python 3"
    },
    "language_info": {
      "name": "python"
    }
  },
  "cells": [
    {
      "cell_type": "markdown",
      "metadata": {
        "id": "view-in-github",
        "colab_type": "text"
      },
      "source": [
        "<a href=\"https://colab.research.google.com/github/ekaratnida/DADS5001-Data-Analytics-and-Data-Science-Tools-and-Programming/blob/main/01_Data_Sources/week1.ipynb\" target=\"_parent\"><img src=\"https://colab.research.google.com/assets/colab-badge.svg\" alt=\"Open In Colab\"/></a>"
      ]
    },
    {
      "cell_type": "markdown",
      "source": [
        "# 1. Youtube"
      ],
      "metadata": {
        "id": "sD8ky2n3mkQQ"
      }
    },
    {
      "cell_type": "code",
      "source": [
        "!pip install pytchat #https://github.com/taizan-hokuto/pytchat/wiki"
      ],
      "metadata": {
        "id": "Pgo6b68WmFIJ"
      },
      "execution_count": null,
      "outputs": []
    },
    {
      "cell_type": "code",
      "execution_count": 20,
      "metadata": {
        "id": "pgCSzTNYkmqi",
        "colab": {
          "base_uri": "https://localhost:8080/"
        },
        "outputId": "1dd40b88-f9f7-465e-e619-f8cab16ac2c6"
      },
      "outputs": [
        {
          "output_type": "stream",
          "name": "stdout",
          "text": [
            "2022-10-08 02:01:58 [Joseph Wimer]- AHA....\n",
            "2022-10-08 02:02:02 [Joseph Wimer]- That looks amazing.\n",
            "2022-10-08 02:02:19 [TheFourteen]- Ice Spirit feels pretty useless for endgame.\n",
            "2022-10-08 02:02:49 [TheFourteen]- Yeah, I only ever got Fire Spirit for the Katana evolve.\n",
            "2022-10-08 02:02:57 [TheFourteen]- Will have to give Silph Blade a try.\n",
            "2022-10-08 02:03:12 [TheFourteen]- Agreed.\n",
            "2022-10-08 02:03:13 [Leda Ferreira]- fire spirit got nerfed hard\n",
            "2022-10-08 02:03:24 [TheFourteen]- Did it?\n"
          ]
        }
      ],
      "source": [
        "import pytchat\n",
        "chat = pytchat.create(video_id=\"CJbUDLY4CwM\")\n",
        "\n",
        "while chat.is_alive():\n",
        "  for c in chat.get().sync_items():\n",
        "    print(f\"{c.datetime} [{c.author.name}]- {c.message}\")"
      ]
    },
    {
      "cell_type": "code",
      "source": [
        "import pytchat\n",
        "import pandas as pd \n",
        "chat = pytchat.create(video_id=\"CJbUDLY4CwM\")\n",
        "\n",
        "dList = []\n",
        "aList = []\n",
        "mList = []\n",
        "\n",
        "i = 0\n",
        "while chat.is_alive():\n",
        "  for c in chat.get().sync_items():\n",
        "    print(f\"{c.datetime} [{c.author.name}]- {c.message}\")\n",
        "    dList.append(c.datetime)\n",
        "    aList.append(c.author.name)\n",
        "    mList.append(c.message)\n",
        "    i = i+1\n",
        "    if i == 5:\n",
        "      chat.terminate()\n",
        "      break\n",
        "\n",
        "# dictionary of lists \n",
        "dict = {'dateTime': dList, 'authorName': aList, 'Message': mList}\n",
        "\n",
        "df = pd.DataFrame(dict)\n",
        "df.head()\n",
        "\n",
        "from google.colab import files\n",
        "df.to_csv(\"data.csv\", encoding=\"utf_8_sig\", index=False) #cp874, #TIS-620\n",
        "files.download(\"data.csv\")"
      ],
      "metadata": {
        "colab": {
          "base_uri": "https://localhost:8080/",
          "height": 104
        },
        "id": "vsr1OM129uRq",
        "outputId": "664eb759-9a54-4772-9720-1b1e8c0e3604"
      },
      "execution_count": 21,
      "outputs": [
        {
          "output_type": "stream",
          "name": "stdout",
          "text": [
            "2022-10-08 02:04:05 [Leda Ferreira]- you'll get one hit\n",
            "2022-10-08 02:04:16 [Leda Ferreira]- oil is heroic\n",
            "2022-10-08 02:04:23 [TheFourteen]- Hmmmm... I think it is, yeah.\n",
            "2022-10-08 02:04:44 [Leda Ferreira]- lv 2 oil gives back 3 charges\n",
            "2022-10-08 02:05:01 [Garrett Hafker]- that xp gain really falling off now\n"
          ]
        },
        {
          "output_type": "display_data",
          "data": {
            "text/plain": [
              "<IPython.core.display.Javascript object>"
            ],
            "application/javascript": [
              "\n",
              "    async function download(id, filename, size) {\n",
              "      if (!google.colab.kernel.accessAllowed) {\n",
              "        return;\n",
              "      }\n",
              "      const div = document.createElement('div');\n",
              "      const label = document.createElement('label');\n",
              "      label.textContent = `Downloading \"${filename}\": `;\n",
              "      div.appendChild(label);\n",
              "      const progress = document.createElement('progress');\n",
              "      progress.max = size;\n",
              "      div.appendChild(progress);\n",
              "      document.body.appendChild(div);\n",
              "\n",
              "      const buffers = [];\n",
              "      let downloaded = 0;\n",
              "\n",
              "      const channel = await google.colab.kernel.comms.open(id);\n",
              "      // Send a message to notify the kernel that we're ready.\n",
              "      channel.send({})\n",
              "\n",
              "      for await (const message of channel.messages) {\n",
              "        // Send a message to notify the kernel that we're ready.\n",
              "        channel.send({})\n",
              "        if (message.buffers) {\n",
              "          for (const buffer of message.buffers) {\n",
              "            buffers.push(buffer);\n",
              "            downloaded += buffer.byteLength;\n",
              "            progress.value = downloaded;\n",
              "          }\n",
              "        }\n",
              "      }\n",
              "      const blob = new Blob(buffers, {type: 'application/binary'});\n",
              "      const a = document.createElement('a');\n",
              "      a.href = window.URL.createObjectURL(blob);\n",
              "      a.download = filename;\n",
              "      div.appendChild(a);\n",
              "      a.click();\n",
              "      div.remove();\n",
              "    }\n",
              "  "
            ]
          },
          "metadata": {}
        },
        {
          "output_type": "display_data",
          "data": {
            "text/plain": [
              "<IPython.core.display.Javascript object>"
            ],
            "application/javascript": [
              "download(\"download_ef5fa06d-5209-4655-8744-8ded15263674\", \"data.csv\", 331)"
            ]
          },
          "metadata": {}
        }
      ]
    },
    {
      "cell_type": "markdown",
      "source": [
        "# 2. Twitter\n",
        "#### Reference https://developer.twitter.com/en/docs/twitter-api/v1/tweets/timelines/api-reference/get-statuses-user_timeline"
      ],
      "metadata": {
        "id": "-Is6zOw5n0n_"
      }
    },
    {
      "cell_type": "code",
      "source": [
        "!pip install tweepy #https://www.tweepy.org/"
      ],
      "metadata": {
        "id": "n0a9S2EXos5J",
        "outputId": "b72eaaf7-17ac-48bd-d74a-7ed423cfcbc0",
        "colab": {
          "base_uri": "https://localhost:8080/"
        }
      },
      "execution_count": 6,
      "outputs": [
        {
          "output_type": "stream",
          "name": "stdout",
          "text": [
            "Looking in indexes: https://pypi.org/simple, https://us-python.pkg.dev/colab-wheels/public/simple/\n",
            "Requirement already satisfied: tweepy in /usr/local/lib/python3.7/dist-packages (3.10.0)\n",
            "Requirement already satisfied: requests[socks]>=2.11.1 in /usr/local/lib/python3.7/dist-packages (from tweepy) (2.23.0)\n",
            "Requirement already satisfied: six>=1.10.0 in /usr/local/lib/python3.7/dist-packages (from tweepy) (1.15.0)\n",
            "Requirement already satisfied: requests-oauthlib>=0.7.0 in /usr/local/lib/python3.7/dist-packages (from tweepy) (1.3.1)\n",
            "Requirement already satisfied: oauthlib>=3.0.0 in /usr/local/lib/python3.7/dist-packages (from requests-oauthlib>=0.7.0->tweepy) (3.2.1)\n",
            "Requirement already satisfied: certifi>=2017.4.17 in /usr/local/lib/python3.7/dist-packages (from requests[socks]>=2.11.1->tweepy) (2022.9.24)\n",
            "Requirement already satisfied: chardet<4,>=3.0.2 in /usr/local/lib/python3.7/dist-packages (from requests[socks]>=2.11.1->tweepy) (3.0.4)\n",
            "Requirement already satisfied: urllib3!=1.25.0,!=1.25.1,<1.26,>=1.21.1 in /usr/local/lib/python3.7/dist-packages (from requests[socks]>=2.11.1->tweepy) (1.24.3)\n",
            "Requirement already satisfied: idna<3,>=2.5 in /usr/local/lib/python3.7/dist-packages (from requests[socks]>=2.11.1->tweepy) (2.10)\n",
            "Requirement already satisfied: PySocks!=1.5.7,>=1.5.6 in /usr/local/lib/python3.7/dist-packages (from requests[socks]>=2.11.1->tweepy) (1.7.1)\n"
          ]
        }
      ]
    },
    {
      "cell_type": "markdown",
      "source": [
        "### Setup key and secret\n"
      ],
      "metadata": {
        "id": "yHyQTyfiFjML"
      }
    },
    {
      "cell_type": "code",
      "source": [
        "from getpass import getpass\n",
        "consumer_key = getpass('Enter the consumer_key: ')\n",
        "consumer_secret = getpass('Enter the consumer_secret: ')\n",
        "access_token = getpass('Enter the access_token: ')\n",
        "access_token_secret = getpass('Enter the access_token_secret: ')"
      ],
      "metadata": {
        "id": "u9zghkeYEZ2D"
      },
      "execution_count": null,
      "outputs": []
    },
    {
      "cell_type": "markdown",
      "source": [
        "### Streaming"
      ],
      "metadata": {
        "id": "vFj8KMfRFT4C"
      }
    },
    {
      "cell_type": "code",
      "source": [
        "import tweepy\n",
        "\n",
        "auth = tweepy.OAuthHandler(consumer_key, consumer_secret)\n",
        "auth.set_access_token(access_token, access_token_secret)\n",
        "\n",
        "api = tweepy.API(auth)"
      ],
      "metadata": {
        "id": "1YA_65_hFDbz"
      },
      "execution_count": 3,
      "outputs": []
    },
    {
      "cell_type": "markdown",
      "source": [
        "### Example 1: User home timeline"
      ],
      "metadata": {
        "id": "cRvXO7DfFXtK"
      }
    },
    {
      "cell_type": "code",
      "source": [
        "public_tweets = api.home_timeline()\n",
        "for tweet in public_tweets:\n",
        "    print(tweet.text)\n",
        "    print(\"----------------------------------\")"
      ],
      "metadata": {
        "id": "a_Rq4gkpqCu4"
      },
      "execution_count": null,
      "outputs": []
    },
    {
      "cell_type": "markdown",
      "source": [
        "### Example 2: monitor user ID"
      ],
      "metadata": {
        "id": "qEpJQsk6FoTE"
      }
    },
    {
      "cell_type": "code",
      "source": [
        "import pandas as pd\n",
        "dList = []\n",
        "aList = []\n",
        "mList = []\n",
        "userID = \"elonmusk\"\n",
        "user = api.get_user(userID)\n",
        "\n",
        "tweets = api.user_timeline(screen_name=userID, \n",
        "                           # 10 is the maximum allowed count\n",
        "                           count=10,\n",
        "                           include_rts = False,\n",
        "                           # Necessary to keep full_text \n",
        "                           # otherwise only the first 140 words are extracted\n",
        "                           tweet_mode = 'extended'\n",
        "                           )\n",
        "\n",
        "for info in tweets[:5]:\n",
        "    #print(info)\n",
        "    #print(\"ID: {}\".format(info.id))\n",
        "    print(info.created_at)\n",
        "    print(info.full_text)\n",
        "    print(\"\\n\")\n",
        "    dList.append(info.id)\n",
        "    aList.append(info.created_at)\n",
        "    mList.append(info.full_text.encode().decode('unicode_escape'))\n",
        "\n",
        "dict = {'id': dList, 'time': aList, 'text': mList}\n",
        "\n",
        "df = pd.DataFrame(dict)\n",
        "df.head()\n",
        "\n",
        "from google.colab import files\n",
        "df.to_csv(\"data.csv\", encoding=\"ISO-8859-1\", index=False)\n",
        "files.download(\"data.csv\")\n"
      ],
      "metadata": {
        "colab": {
          "base_uri": "https://localhost:8080/",
          "height": 364
        },
        "id": "AxBMi_5GsGGI",
        "outputId": "158e7466-c4cf-4d72-afc0-f588b60320b0"
      },
      "execution_count": 18,
      "outputs": [
        {
          "output_type": "stream",
          "name": "stdout",
          "text": [
            "2022-10-08 01:52:43\n",
            "@wintonARK Dojo uses bf16, so actual performance difference vs 64 bit is much less than it would seem, since you truncate so many useless zeroes &amp; round from there\n",
            "\n",
            "\n",
            "2022-10-08 01:46:36\n",
            "@sashayanshin 🤣\n",
            "\n",
            "\n",
            "2022-10-08 01:43:24\n",
            "@SirineAti @SpaceX Two Dragons on @Space_Station\n",
            "\n",
            "\n",
            "2022-10-07 21:51:38\n",
            "@Teslarati @ajtourville @JohnnaCrider1 Can’t wait to see this beast in action!\n",
            "\n",
            "\n",
            "2022-10-07 20:11:19\n",
            "@WholeMarsBlog Even better build coming next week\n",
            "\n",
            "\n"
          ]
        },
        {
          "output_type": "display_data",
          "data": {
            "text/plain": [
              "<IPython.core.display.Javascript object>"
            ],
            "application/javascript": [
              "\n",
              "    async function download(id, filename, size) {\n",
              "      if (!google.colab.kernel.accessAllowed) {\n",
              "        return;\n",
              "      }\n",
              "      const div = document.createElement('div');\n",
              "      const label = document.createElement('label');\n",
              "      label.textContent = `Downloading \"${filename}\": `;\n",
              "      div.appendChild(label);\n",
              "      const progress = document.createElement('progress');\n",
              "      progress.max = size;\n",
              "      div.appendChild(progress);\n",
              "      document.body.appendChild(div);\n",
              "\n",
              "      const buffers = [];\n",
              "      let downloaded = 0;\n",
              "\n",
              "      const channel = await google.colab.kernel.comms.open(id);\n",
              "      // Send a message to notify the kernel that we're ready.\n",
              "      channel.send({})\n",
              "\n",
              "      for await (const message of channel.messages) {\n",
              "        // Send a message to notify the kernel that we're ready.\n",
              "        channel.send({})\n",
              "        if (message.buffers) {\n",
              "          for (const buffer of message.buffers) {\n",
              "            buffers.push(buffer);\n",
              "            downloaded += buffer.byteLength;\n",
              "            progress.value = downloaded;\n",
              "          }\n",
              "        }\n",
              "      }\n",
              "      const blob = new Blob(buffers, {type: 'application/binary'});\n",
              "      const a = document.createElement('a');\n",
              "      a.href = window.URL.createObjectURL(blob);\n",
              "      a.download = filename;\n",
              "      div.appendChild(a);\n",
              "      a.click();\n",
              "      div.remove();\n",
              "    }\n",
              "  "
            ]
          },
          "metadata": {}
        },
        {
          "output_type": "display_data",
          "data": {
            "text/plain": [
              "<IPython.core.display.Javascript object>"
            ],
            "application/javascript": [
              "download(\"download_0e9a3939-02f3-4fdf-9cbc-0cf3ac5fc1d2\", \"data.csv\", 582)"
            ]
          },
          "metadata": {}
        }
      ]
    },
    {
      "cell_type": "markdown",
      "source": [
        "### Web scraping"
      ],
      "metadata": {
        "id": "TKHf6gy-PYnb"
      }
    },
    {
      "cell_type": "code",
      "source": [
        "import requests #connect url\n",
        "from bs4 import BeautifulSoup #https://www.crummy.com/software/BeautifulSoup/bs4/doc/\n",
        "\n",
        "url = requests.get('https://www.blognone.com/node/109731')\n",
        "#print(\"url = \",url)\n",
        "\n",
        "soup = BeautifulSoup(url.content, 'html.parser')\n",
        "#print(\"soup = \",soup)\n",
        "\n",
        "#data = soup.find(itemprop='name')\n",
        "#print(data)\n",
        "\n",
        "####\n",
        "data = ''\n",
        "idx = 1\n",
        "for i in soup.find_all(\"div\", {\"class\": \"field-item even\"}):\n",
        "  output = i.find(\"p\")\n",
        "  #print(type(output))\n",
        "  if output != None:\n",
        "    print(idx, \" = \", output.text)\n",
        "    idx = idx + 1"
      ],
      "metadata": {
        "colab": {
          "base_uri": "https://localhost:8080/"
        },
        "id": "TfnV1SYjPbEL",
        "outputId": "4d0149eb-66fb-4d4f-8188-14c8aecb807a"
      },
      "execution_count": null,
      "outputs": [
        {
          "output_type": "stream",
          "name": "stdout",
          "text": [
            "1  =  ช่วงนี้อาจมีหลายคนพูดว่ารู้อะไรไม่สู้รู้งี้ โดยราคา Bitcoin ล่าสุด ได้ซื้อขายกันสูงกว่า 7,000 ดอลลาร์ เป็นที่เรียบร้อยแล้ว ตั้งแต่เมื่อวานนี้ (11 พฤษภาคม) ซึ่งเป็นราคาสูงสุดในรอบ 8 เดือน และราคาปรับขึ้นกว่า 22% ในช่วงสัปดาห์ที่ผ่านมา ราคาล่าสุดตอนนี้อยู่ราว 7,300 ดอลลาร์\n",
            "2  =  โดนใครปั่น เหมือนไม่มีข่าวดีอะไรเลย\n",
            "3  =  ปั่นน่ะปั่นแน่ครับ ช่วงนี้ดูเหมือนพวกแฮกเกอร์ทั้งหลายเองก็คึกคัก กระหน่ำโจมตี รวมทั้งแฮกเงินคลิปโตบ่อยจนผิดสังเกตุ น่าจะเป็นการเก็บไว้เพื่อรอขายในช่วงราคาขึ้นสุดทำกำไร คงจะมีข่าววงในอะไรซักอย่างที่เราไม่รู้ได้น่ะครับ\n",
            "4  =  ช่วงที่มีข่าวแรงๆ เรื่อง USDT มีการทยอยขนเงินจาก Bitfinex กับ Binance (ขาย BNB ทิ้ง) ไปปั่นบน Coinbase ครับ\n",
            "5  =  ขึ้นเงียบๆนี่ขึ้นจริงนะผมว่า\n",
            "6  =  มีประชาชนในบางประเทศตอนนี้ อยู่ได้ด้วย Coin เพราะเศรษฐกิจประเทศพัง สกุลเงินหลักไม่มีค่า ดันกลายเป็นว่า คนที่รอด คือคนที่ถือ Coin ซะงั้น\n"
          ]
        }
      ]
    }
  ]
}