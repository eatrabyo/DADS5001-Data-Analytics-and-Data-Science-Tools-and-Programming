{
  "nbformat": 4,
  "nbformat_minor": 0,
  "metadata": {
    "colab": {
      "name": "week1.ipynb",
      "provenance": [],
      "include_colab_link": true
    },
    "kernelspec": {
      "name": "python3",
      "display_name": "Python 3"
    },
    "language_info": {
      "name": "python"
    }
  },
  "cells": [
    {
      "cell_type": "markdown",
      "metadata": {
        "id": "view-in-github",
        "colab_type": "text"
      },
      "source": [
        "<a href=\"https://colab.research.google.com/github/ekaratnida/DADS5001-Data-Analytics-and-Data-Science-Tools-and-Programming/blob/main/01_Data_Sources/week1.ipynb\" target=\"_parent\"><img src=\"https://colab.research.google.com/assets/colab-badge.svg\" alt=\"Open In Colab\"/></a>"
      ]
    },
    {
      "cell_type": "markdown",
      "source": [
        "# 1. Youtube"
      ],
      "metadata": {
        "id": "sD8ky2n3mkQQ"
      }
    },
    {
      "cell_type": "code",
      "source": [
        "!pip install pytchat #https://github.com/taizan-hokuto/pytchat/wiki"
      ],
      "metadata": {
        "id": "Pgo6b68WmFIJ"
      },
      "execution_count": null,
      "outputs": []
    },
    {
      "cell_type": "code",
      "execution_count": null,
      "metadata": {
        "id": "pgCSzTNYkmqi"
      },
      "outputs": [],
      "source": [
        "import pytchat\n",
        "chat = pytchat.create(video_id=\"VDQFqn0evfM\")\n",
        "\n",
        "while chat.is_alive():\n",
        "  for c in chat.get().sync_items():\n",
        "    print(dir(c))\n",
        "    print(f\"{c.datetime} [{c.author.name}]- {c.message}\")"
      ]
    },
    {
      "cell_type": "code",
      "source": [
        "import pytchat\n",
        "import pandas as pd \n",
        "chat = pytchat.create(video_id=\"VDQFqn0evfM\")\n",
        "\n",
        "dList = []\n",
        "aList = []\n",
        "mList = []\n",
        "\n",
        "i = 0\n",
        "while chat.is_alive():\n",
        "  for c in chat.get().sync_items():\n",
        "    print(f\"{c.datetime} [{c.author.name}]- {c.message}\")\n",
        "    dList.append(c.datetime)\n",
        "    aList.append(c.author.name)\n",
        "    mList.append(c.message)\n",
        "    i = i+1\n",
        "    if i == 10:\n",
        "      chat.terminate()\n",
        "      break\n",
        "\n",
        "# dictionary of lists \n",
        "dict = {'dateTime': dList, 'authorName': aList, 'Message': mList}\n",
        "\n",
        "df = pd.DataFrame(dict)\n",
        "df.head()\n",
        "\n",
        "from google.colab import files\n",
        "df.to_csv(\"data.csv\", encoding=\"utf_8_sig\", index=False) #cp874, #TIS-620\n",
        "files.download(\"data.csv\")"
      ],
      "metadata": {
        "colab": {
          "base_uri": "https://localhost:8080/",
          "height": 190
        },
        "id": "vsr1OM129uRq",
        "outputId": "43df988b-0935-49fa-8b02-3978e1e29731"
      },
      "execution_count": 1,
      "outputs": [
        {
          "output_type": "stream",
          "name": "stdout",
          "text": [
            "2022-10-11 13:11:02 [elghazi]- มาาาา\n",
            "2022-10-11 13:11:07 [ชาวประมงระยา]- ละดูหน้า\n",
            "2022-10-11 13:11:21 [ohpreams ‘94]- มาาาาาาาาาา\n",
            "2022-10-11 13:11:24 [sunchai sunchaisuwon]- มีคนติดโอเวอร์วอทททททท2\n",
            "2022-10-11 13:11:30 [Wanitch Teeraphothipan]- มาาาาา\n",
            "2022-10-11 13:11:31 [Tachporn Sirithamrak]- มาาาา\n",
            "2022-10-11 13:11:32 [hiimpiyachat]- มาเฉยยย\n",
            "2022-10-11 13:11:35 [Aom ที่ไม่มีไรดีเลย]- มาค้าบบบบบลุยยยยค้าบบบบบบ\n",
            "2022-10-11 13:11:45 [XEAR]- รอออ\n",
            "2022-10-11 13:11:47 [Gg]- มาาาาาาาาาาาาาาาาาาาาาาาาา\n"
          ]
        },
        {
          "output_type": "display_data",
          "data": {
            "text/plain": [
              "<IPython.core.display.Javascript object>"
            ],
            "application/javascript": [
              "\n",
              "    async function download(id, filename, size) {\n",
              "      if (!google.colab.kernel.accessAllowed) {\n",
              "        return;\n",
              "      }\n",
              "      const div = document.createElement('div');\n",
              "      const label = document.createElement('label');\n",
              "      label.textContent = `Downloading \"${filename}\": `;\n",
              "      div.appendChild(label);\n",
              "      const progress = document.createElement('progress');\n",
              "      progress.max = size;\n",
              "      div.appendChild(progress);\n",
              "      document.body.appendChild(div);\n",
              "\n",
              "      const buffers = [];\n",
              "      let downloaded = 0;\n",
              "\n",
              "      const channel = await google.colab.kernel.comms.open(id);\n",
              "      // Send a message to notify the kernel that we're ready.\n",
              "      channel.send({})\n",
              "\n",
              "      for await (const message of channel.messages) {\n",
              "        // Send a message to notify the kernel that we're ready.\n",
              "        channel.send({})\n",
              "        if (message.buffers) {\n",
              "          for (const buffer of message.buffers) {\n",
              "            buffers.push(buffer);\n",
              "            downloaded += buffer.byteLength;\n",
              "            progress.value = downloaded;\n",
              "          }\n",
              "        }\n",
              "      }\n",
              "      const blob = new Blob(buffers, {type: 'application/binary'});\n",
              "      const a = document.createElement('a');\n",
              "      a.href = window.URL.createObjectURL(blob);\n",
              "      a.download = filename;\n",
              "      div.appendChild(a);\n",
              "      a.click();\n",
              "      div.remove();\n",
              "    }\n",
              "  "
            ]
          },
          "metadata": {}
        },
        {
          "output_type": "display_data",
          "data": {
            "text/plain": [
              "<IPython.core.display.Javascript object>"
            ],
            "application/javascript": [
              "download(\"download_ec4c846e-7f7c-4b17-8750-91c18cd92120\", \"data.csv\", 795)"
            ]
          },
          "metadata": {}
        }
      ]
    },
    {
      "cell_type": "markdown",
      "source": [
        "# 2. Twitter\n",
        "#### Reference https://developer.twitter.com/en/docs/twitter-api/v1/tweets/timelines/api-reference/get-statuses-user_timeline"
      ],
      "metadata": {
        "id": "-Is6zOw5n0n_"
      }
    },
    {
      "cell_type": "code",
      "source": [
        "!pip install tweepy #https://www.tweepy.org/"
      ],
      "metadata": {
        "id": "n0a9S2EXos5J",
        "outputId": "239605d8-586b-4c6e-a055-a6abd56da1a4",
        "colab": {
          "base_uri": "https://localhost:8080/"
        }
      },
      "execution_count": 4,
      "outputs": [
        {
          "output_type": "stream",
          "name": "stdout",
          "text": [
            "Looking in indexes: https://pypi.org/simple, https://us-python.pkg.dev/colab-wheels/public/simple/\n",
            "Requirement already satisfied: tweepy in /usr/local/lib/python3.7/dist-packages (3.10.0)\n",
            "Requirement already satisfied: requests-oauthlib>=0.7.0 in /usr/local/lib/python3.7/dist-packages (from tweepy) (1.3.1)\n",
            "Requirement already satisfied: six>=1.10.0 in /usr/local/lib/python3.7/dist-packages (from tweepy) (1.15.0)\n",
            "Requirement already satisfied: requests[socks]>=2.11.1 in /usr/local/lib/python3.7/dist-packages (from tweepy) (2.23.0)\n",
            "Requirement already satisfied: oauthlib>=3.0.0 in /usr/local/lib/python3.7/dist-packages (from requests-oauthlib>=0.7.0->tweepy) (3.2.1)\n",
            "Requirement already satisfied: certifi>=2017.4.17 in /usr/local/lib/python3.7/dist-packages (from requests[socks]>=2.11.1->tweepy) (2022.9.24)\n",
            "Requirement already satisfied: urllib3!=1.25.0,!=1.25.1,<1.26,>=1.21.1 in /usr/local/lib/python3.7/dist-packages (from requests[socks]>=2.11.1->tweepy) (1.24.3)\n",
            "Requirement already satisfied: idna<3,>=2.5 in /usr/local/lib/python3.7/dist-packages (from requests[socks]>=2.11.1->tweepy) (2.10)\n",
            "Requirement already satisfied: chardet<4,>=3.0.2 in /usr/local/lib/python3.7/dist-packages (from requests[socks]>=2.11.1->tweepy) (3.0.4)\n",
            "Requirement already satisfied: PySocks!=1.5.7,>=1.5.6 in /usr/local/lib/python3.7/dist-packages (from requests[socks]>=2.11.1->tweepy) (1.7.1)\n"
          ]
        }
      ]
    },
    {
      "cell_type": "markdown",
      "source": [
        "### Setup key and secret\n"
      ],
      "metadata": {
        "id": "yHyQTyfiFjML"
      }
    },
    {
      "cell_type": "code",
      "source": [
        "from getpass import getpass\n",
        "consumer_key = getpass('Enter the consumer_key: ')\n",
        "consumer_secret = getpass('Enter the consumer_secret: ')\n",
        "access_token = getpass('Enter the access_token: ')\n",
        "access_token_secret = getpass('Enter the access_token_secret: ')"
      ],
      "metadata": {
        "id": "u9zghkeYEZ2D"
      },
      "execution_count": null,
      "outputs": []
    },
    {
      "cell_type": "markdown",
      "source": [
        "### Streaming"
      ],
      "metadata": {
        "id": "vFj8KMfRFT4C"
      }
    },
    {
      "cell_type": "code",
      "source": [
        "import tweepy\n",
        "\n",
        "auth = tweepy.OAuthHandler(consumer_key, consumer_secret)\n",
        "auth.set_access_token(access_token, access_token_secret)\n",
        "\n",
        "api = tweepy.API(auth)"
      ],
      "metadata": {
        "id": "1YA_65_hFDbz"
      },
      "execution_count": null,
      "outputs": []
    },
    {
      "cell_type": "markdown",
      "source": [
        "### Example 1: User home timeline"
      ],
      "metadata": {
        "id": "cRvXO7DfFXtK"
      }
    },
    {
      "cell_type": "code",
      "source": [
        "public_tweets = api.home_timeline()\n",
        "for tweet in public_tweets:\n",
        "    print(tweet.text)\n",
        "    print(\"----------------------------------\")"
      ],
      "metadata": {
        "id": "a_Rq4gkpqCu4"
      },
      "execution_count": null,
      "outputs": []
    },
    {
      "cell_type": "markdown",
      "source": [
        "### Example 2: monitor user ID"
      ],
      "metadata": {
        "id": "qEpJQsk6FoTE"
      }
    },
    {
      "cell_type": "code",
      "source": [
        "import pandas as pd\n",
        "dList = []\n",
        "aList = []\n",
        "mList = []\n",
        "userID = \"elonmusk\"\n",
        "user = api.get_user(userID)\n",
        "\n",
        "tweets = api.user_timeline(screen_name=userID, \n",
        "                           # 10 is the maximum allowed count\n",
        "                           count=10,\n",
        "                           include_rts = False,\n",
        "                           # Necessary to keep full_text \n",
        "                           # otherwise only the first 140 words are extracted\n",
        "                           tweet_mode = 'extended'\n",
        "                           )\n",
        "\n",
        "for info in tweets[:5]:\n",
        "    #print(info)\n",
        "    #print(\"ID: {}\".format(info.id))\n",
        "    print(info.created_at)\n",
        "    print(info.full_text)\n",
        "    print(\"\\n\")\n",
        "    dList.append(info.id)\n",
        "    aList.append(info.created_at)\n",
        "    mList.append(info.full_text.encode().decode('unicode_escape'))\n",
        "\n",
        "dict = {'id': dList, 'time': aList, 'text': mList}\n",
        "\n",
        "df = pd.DataFrame(dict)\n",
        "df.head()\n",
        "\n",
        "from google.colab import files\n",
        "df.to_csv(\"data.csv\", encoding=\"ISO-8859-1\", index=False)\n",
        "files.download(\"data.csv\")\n"
      ],
      "metadata": {
        "id": "AxBMi_5GsGGI"
      },
      "execution_count": null,
      "outputs": []
    },
    {
      "cell_type": "markdown",
      "source": [
        "### Web scraping"
      ],
      "metadata": {
        "id": "TKHf6gy-PYnb"
      }
    },
    {
      "cell_type": "code",
      "source": [
        "import requests #connect url\n",
        "from bs4 import BeautifulSoup #https://www.crummy.com/software/BeautifulSoup/bs4/doc/\n",
        "\n",
        "url = requests.get('https://www.blognone.com/node/109731')\n",
        "#print(\"url = \",url)\n",
        "\n",
        "soup = BeautifulSoup(url.content, 'html.parser')\n",
        "#print(\"soup = \",soup)\n",
        "\n",
        "#data = soup.find(itemprop='name')\n",
        "#print(data)\n",
        "\n",
        "####\n",
        "data = ''\n",
        "idx = 1\n",
        "for i in soup.find_all(\"div\", {\"class\": \"field-item even\"}):\n",
        "  output = i.find(\"p\")\n",
        "  #print(type(output))\n",
        "  if output != None:\n",
        "    print(idx, \" = \", output.text)\n",
        "    idx = idx + 1"
      ],
      "metadata": {
        "id": "TfnV1SYjPbEL"
      },
      "execution_count": null,
      "outputs": []
    }
  ]
}